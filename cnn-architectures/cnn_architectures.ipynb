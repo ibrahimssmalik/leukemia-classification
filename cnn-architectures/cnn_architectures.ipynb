{
 "cells": [
  {
   "cell_type": "code",
   "execution_count": 24,
   "metadata": {
    "colab": {
     "base_uri": "https://localhost:8080/"
    },
    "executionInfo": {
     "elapsed": 2104,
     "status": "ok",
     "timestamp": 1743711747680,
     "user": {
      "displayName": "Ibrahim Malik",
      "userId": "12682751128688087560"
     },
     "user_tz": -60
    },
    "id": "QiYal8vKPiJ1",
    "outputId": "7f952c13-c2fb-4b0d-aded-18310e8a6723"
   },
   "outputs": [
    {
     "name": "stdout",
     "output_type": "stream",
     "text": [
      "Drive already mounted at /content/drive; to attempt to forcibly remount, call drive.mount(\"/content/drive\", force_remount=True).\n"
     ]
    }
   ],
   "source": [
    "# make connection to google drive to access data\n",
    "from google.colab import drive\n",
    "drive.mount('/content/drive')"
   ]
  },
  {
   "cell_type": "code",
   "execution_count": 25,
   "metadata": {
    "executionInfo": {
     "elapsed": 146,
     "status": "ok",
     "timestamp": 1743711747682,
     "user": {
      "displayName": "Ibrahim Malik",
      "userId": "12682751128688087560"
     },
     "user_tz": -60
    },
    "id": "TGqIyg_IPn2H"
   },
   "outputs": [],
   "source": [
    "# import relevant libraries\n",
    "import os\n",
    "import numpy as np\n",
    "import pandas as pd\n",
    "import matplotlib.pyplot as plt\n",
    "import matplotlib.image as mpimg\n",
    "import seaborn as sns\n",
    "\n",
    "%matplotlib inline"
   ]
  },
  {
   "cell_type": "code",
   "execution_count": 26,
   "metadata": {
    "executionInfo": {
     "elapsed": 14,
     "status": "ok",
     "timestamp": 1743711747685,
     "user": {
      "displayName": "Ibrahim Malik",
      "userId": "12682751128688087560"
     },
     "user_tz": -60
    },
    "id": "NMJ3q38ePsZ3"
   },
   "outputs": [],
   "source": [
    "# set up directory paths to image files\n",
    "combined_path_train = \"/content/drive/My Drive/Deep Learning and Generative AI/C-NMC_Leukemia/combined_images_train\"\n",
    "#test_path = \"/content/drive/My Drive/Deep Learning and Generative AI/C-NMC_Leukemia/testing_data/C-NMC_test_final_phase_data\"\n",
    "combined_path_val = \"/content/drive/My Drive/Deep Learning and Generative AI/C-NMC_Leukemia/combined_images_val\""
   ]
  },
  {
   "cell_type": "code",
   "execution_count": 27,
   "metadata": {
    "executionInfo": {
     "elapsed": 2,
     "status": "ok",
     "timestamp": 1743711747689,
     "user": {
      "displayName": "Ibrahim Malik",
      "userId": "12682751128688087560"
     },
     "user_tz": -60
    },
    "id": "cYPXMLW1EM6Y"
   },
   "outputs": [],
   "source": [
    "import sys\n",
    "sys.path.append('/content/keras-inceptionV4')"
   ]
  },
  {
   "cell_type": "code",
   "execution_count": 28,
   "metadata": {
    "executionInfo": {
     "elapsed": 2,
     "status": "ok",
     "timestamp": 1743711747694,
     "user": {
      "displayName": "Ibrahim Malik",
      "userId": "12682751128688087560"
     },
     "user_tz": -60
    },
    "id": "uhI3ZPMd7Edc"
   },
   "outputs": [],
   "source": [
    "import tensorflow as tf\n",
    "from tensorflow.keras.applications import InceptionV3, ResNet50, EfficientNetB3\n",
    "from tensorflow.keras.layers import Dense, GlobalAveragePooling2D, Dropout\n",
    "from tensorflow.keras.models import Model\n",
    "from tensorflow.keras.callbacks import EarlyStopping\n",
    "from tensorflow.keras.optimizers import Adam\n",
    "import tensorflow as tf\n",
    "from tensorflow.keras.applications import InceptionV3, ResNet50, EfficientNetB3\n",
    "from tensorflow.keras.layers import Dense, GlobalAveragePooling2D, Dropout\n",
    "from tensorflow.keras.models import Model\n",
    "from tensorflow.keras.callbacks import EarlyStopping\n",
    "from tensorflow.keras.optimizers import Adam\n",
    "from tensorflow.keras.preprocessing.image import ImageDataGenerator"
   ]
  },
  {
   "cell_type": "code",
   "execution_count": 29,
   "metadata": {
    "colab": {
     "base_uri": "https://localhost:8080/"
    },
    "executionInfo": {
     "elapsed": 12,
     "status": "ok",
     "timestamp": 1743711747708,
     "user": {
      "displayName": "Ibrahim Malik",
      "userId": "12682751128688087560"
     },
     "user_tz": -60
    },
    "id": "OZqi3WkHMqL_",
    "outputId": "e784ca8a-f406-435e-a66b-f91c9ff640bd"
   },
   "outputs": [
    {
     "name": "stdout",
     "output_type": "stream",
     "text": [
      "fatal: destination path 'keras-inceptionV4' already exists and is not an empty directory.\n"
     ]
    }
   ],
   "source": [
    "!git clone https://github.com/kentsommer/keras-inceptionV4.git"
   ]
  },
  {
   "cell_type": "code",
   "execution_count": 30,
   "metadata": {
    "executionInfo": {
     "elapsed": 3,
     "status": "ok",
     "timestamp": 1743711747713,
     "user": {
      "displayName": "Ibrahim Malik",
      "userId": "12682751128688087560"
     },
     "user_tz": -60
    },
    "id": "MzS8ejY2NArU"
   },
   "outputs": [],
   "source": [
    "import sys\n",
    "sys.path.append('/content/keras-inceptionV4')"
   ]
  },
  {
   "cell_type": "code",
   "execution_count": 31,
   "metadata": {
    "executionInfo": {
     "elapsed": 2199,
     "status": "ok",
     "timestamp": 1743711749914,
     "user": {
      "displayName": "Ibrahim Malik",
      "userId": "12682751128688087560"
     },
     "user_tz": -60
    },
    "id": "dZSFAimhEQh_"
   },
   "outputs": [],
   "source": [
    "from inception_v4 import create_model\n",
    "\n",
    "# Create the model\n",
    "model = create_model(num_classes=2, dropout_prob=0.2, weights='imagenet', include_top=True)"
   ]
  },
  {
   "cell_type": "code",
   "execution_count": 32,
   "metadata": {
    "executionInfo": {
     "elapsed": 18,
     "status": "ok",
     "timestamp": 1743711749937,
     "user": {
      "displayName": "Ibrahim Malik",
      "userId": "12682751128688087560"
     },
     "user_tz": -60
    },
    "id": "Th-LPc9z7Edd"
   },
   "outputs": [],
   "source": [
    "early_stop = EarlyStopping(monitor='val_loss',patience=3,verbose=1)"
   ]
  },
  {
   "cell_type": "code",
   "execution_count": 33,
   "metadata": {
    "executionInfo": {
     "elapsed": 4,
     "status": "ok",
     "timestamp": 1743711749955,
     "user": {
      "displayName": "Ibrahim Malik",
      "userId": "12682751128688087560"
     },
     "user_tz": -60
    },
    "id": "M5FZW8Ue7Ede"
   },
   "outputs": [],
   "source": [
    "def build_model(base_model):\n",
    "    base_model.trainable = False # freeze pre-trained layers\n",
    "    x = base_model.output\n",
    "    x = GlobalAveragePooling2D()(x)\n",
    "    x = Dense(512, activation='relu')(x)\n",
    "    x = Dropout(0.5)(x)\n",
    "    x = Dense(1, activation='sigmoid')(x) # change to softmax for multi-class\n",
    "    return Model(inputs=base_model.input, outputs=x)"
   ]
  },
  {
   "cell_type": "code",
   "execution_count": 34,
   "metadata": {
    "executionInfo": {
     "elapsed": 46,
     "status": "ok",
     "timestamp": 1743711750016,
     "user": {
      "displayName": "Ibrahim Malik",
      "userId": "12682751128688087560"
     },
     "user_tz": -60
    },
    "id": "v9_AwWcj7Edf"
   },
   "outputs": [],
   "source": [
    "# define image size (InceptionV3 expects at least 75x75)\n",
    "img_size = (299, 299)\n",
    "batch_size = 32"
   ]
  },
  {
   "cell_type": "code",
   "execution_count": 35,
   "metadata": {
    "executionInfo": {
     "elapsed": 148,
     "status": "ok",
     "timestamp": 1743711750136,
     "user": {
      "displayName": "Ibrahim Malik",
      "userId": "12682751128688087560"
     },
     "user_tz": -60
    },
    "id": "Q1jUM2Gn7Edf"
   },
   "outputs": [],
   "source": [
    "def preprocess_image(x):\n",
    "    x = tf.image.resize(x, [299, 299])  # Resize\n",
    "    if x.shape[-1] == 1:  # If grayscale, convert to RGB\n",
    "        x = tf.image.grayscale_to_rgb(x)\n",
    "    return x\n",
    "\n",
    "# set up generator for image manipulation to add diversity in dataset\n",
    "image_gen = ImageDataGenerator(rotation_range=20, # rotate 20 degrees\n",
    "                               width_shift_range=0.10, # shift width by max of 5%\n",
    "                               height_shift_range=0.10, # shift height by max of 5%\n",
    "                               rescale=1./255, # rescale image by normalzing\n",
    "                               shear_range=0.1, # cutting part of image (max 10%)\n",
    "                               zoom_range=0.1, # zoom by 10% max\n",
    "                               horizontal_flip=True, # horizontal flip\n",
    "                               fill_mode='nearest', # fill missing pixels with nearest filled value\n",
    "                               preprocessing_function=preprocess_image # preprocess image\n",
    "                              )"
   ]
  },
  {
   "cell_type": "code",
   "execution_count": 36,
   "metadata": {
    "colab": {
     "base_uri": "https://localhost:8080/"
    },
    "executionInfo": {
     "elapsed": 193,
     "status": "ok",
     "timestamp": 1743711750213,
     "user": {
      "displayName": "Ibrahim Malik",
      "userId": "12682751128688087560"
     },
     "user_tz": -60
    },
    "id": "s_VAlDJ-7Edg",
    "outputId": "2dea83c1-5f26-4cef-f648-73a73641202b"
   },
   "outputs": [
    {
     "name": "stdout",
     "output_type": "stream",
     "text": [
      "Found 4794 images belonging to 2 classes.\n"
     ]
    }
   ],
   "source": [
    "# generator to get training images from combined path\n",
    "train_image_gen = image_gen.flow_from_directory(combined_path_train,\n",
    "                                                target_size=(299, 299),\n",
    "                                                color_mode='rgb',\n",
    "                                                batch_size=batch_size,\n",
    "                                                class_mode='binary')"
   ]
  },
  {
   "cell_type": "code",
   "execution_count": 37,
   "metadata": {
    "colab": {
     "base_uri": "https://localhost:8080/"
    },
    "executionInfo": {
     "elapsed": 26,
     "status": "ok",
     "timestamp": 1743711750240,
     "user": {
      "displayName": "Ibrahim Malik",
      "userId": "12682751128688087560"
     },
     "user_tz": -60
    },
    "id": "2WGdlm3g7Edh",
    "outputId": "4bd2364c-f4c8-4e92-d01e-3fc7022b917e"
   },
   "outputs": [
    {
     "name": "stdout",
     "output_type": "stream",
     "text": [
      "Found 2438 images belonging to 2 classes.\n"
     ]
    }
   ],
   "source": [
    "# generator to get validation images from combined path\n",
    "val_image_gen = image_gen.flow_from_directory(combined_path_val,\n",
    "                                               target_size=(299, 299),\n",
    "                                               color_mode='rgb',\n",
    "                                               batch_size=batch_size,\n",
    "                                               class_mode='binary',shuffle=True)"
   ]
  },
  {
   "cell_type": "code",
   "execution_count": 38,
   "metadata": {
    "executionInfo": {
     "elapsed": 4512,
     "status": "ok",
     "timestamp": 1743711754750,
     "user": {
      "displayName": "Ibrahim Malik",
      "userId": "12682751128688087560"
     },
     "user_tz": -60
    },
    "id": "EFwSNK5k7Edi"
   },
   "outputs": [],
   "source": [
    "# load each model\n",
    "models = {\n",
    "    \"InceptionV4\": build_model(create_model(num_classes=2, dropout_prob=0.2, weights='imagenet', include_top=False)),\n",
    "    \"InceptionV3\": build_model(InceptionV3(weights='imagenet', include_top=False, input_shape=(img_size[0],img_size[1],3))),\n",
    "    \"ResNet50\": build_model(ResNet50(weights='imagenet', include_top=False, input_shape=(img_size[0],img_size[1],3))),\n",
    "    \"EfficientNetB3\": build_model(EfficientNetB3(weights='imagenet', include_top=False, input_shape=(img_size[0],img_size[1],3)))\n",
    "}"
   ]
  },
  {
   "cell_type": "code",
   "execution_count": 39,
   "metadata": {
    "executionInfo": {
     "elapsed": 9,
     "status": "ok",
     "timestamp": 1743711754753,
     "user": {
      "displayName": "Ibrahim Malik",
      "userId": "12682751128688087560"
     },
     "user_tz": -60
    },
    "id": "F5-DLLXn7Edj"
   },
   "outputs": [],
   "source": [
    "# suppress any warnings\n",
    "import warnings\n",
    "warnings.filterwarnings('ignore')"
   ]
  },
  {
   "cell_type": "code",
   "execution_count": 40,
   "metadata": {
    "executionInfo": {
     "elapsed": 8,
     "status": "ok",
     "timestamp": 1743711754755,
     "user": {
      "displayName": "Ibrahim Malik",
      "userId": "12682751128688087560"
     },
     "user_tz": -60
    },
    "id": "bASXGQM87Edj"
   },
   "outputs": [],
   "source": [
    "import pandas as pd\n",
    "from sklearn.metrics import accuracy_score, precision_score, recall_score, f1_score, roc_auc_score"
   ]
  },
  {
   "cell_type": "code",
   "execution_count": 41,
   "metadata": {
    "colab": {
     "base_uri": "https://localhost:8080/"
    },
    "executionInfo": {
     "elapsed": 5054910,
     "status": "ok",
     "timestamp": 1743716809659,
     "user": {
      "displayName": "Ibrahim Malik",
      "userId": "12682751128688087560"
     },
     "user_tz": -60
    },
    "id": "vraLpfN_7Edj",
    "outputId": "f7716189-c009-41cd-d7df-167a3b972bca"
   },
   "outputs": [
    {
     "name": "stdout",
     "output_type": "stream",
     "text": [
      "Training InceptionV4...\n",
      "Epoch 1/10\n",
      "\u001b[1m150/150\u001b[0m \u001b[32m━━━━━━━━━━━━━━━━━━━━\u001b[0m\u001b[37m\u001b[0m \u001b[1m516s\u001b[0m 3s/step - accuracy: 0.5019 - loss: 0.6820 - val_accuracy: 0.5000 - val_loss: 0.6639\n",
      "Epoch 2/10\n",
      "\u001b[1m150/150\u001b[0m \u001b[32m━━━━━━━━━━━━━━━━━━━━\u001b[0m\u001b[37m\u001b[0m \u001b[1m247s\u001b[0m 2s/step - accuracy: 0.5060 - loss: 0.6659 - val_accuracy: 0.5242 - val_loss: 0.6541\n",
      "Epoch 3/10\n",
      "\u001b[1m150/150\u001b[0m \u001b[32m━━━━━━━━━━━━━━━━━━━━\u001b[0m\u001b[37m\u001b[0m \u001b[1m252s\u001b[0m 2s/step - accuracy: 0.5401 - loss: 0.6486 - val_accuracy: 0.5016 - val_loss: 0.6338\n",
      "Epoch 4/10\n",
      "\u001b[1m150/150\u001b[0m \u001b[32m━━━━━━━━━━━━━━━━━━━━\u001b[0m\u001b[37m\u001b[0m \u001b[1m237s\u001b[0m 2s/step - accuracy: 0.5649 - loss: 0.6353 - val_accuracy: 0.7555 - val_loss: 0.6184\n",
      "Epoch 5/10\n",
      "\u001b[1m150/150\u001b[0m \u001b[32m━━━━━━━━━━━━━━━━━━━━\u001b[0m\u001b[37m\u001b[0m \u001b[1m234s\u001b[0m 2s/step - accuracy: 0.6331 - loss: 0.6176 - val_accuracy: 0.7683 - val_loss: 0.6006\n",
      "Epoch 6/10\n",
      "\u001b[1m150/150\u001b[0m \u001b[32m━━━━━━━━━━━━━━━━━━━━\u001b[0m\u001b[37m\u001b[0m \u001b[1m235s\u001b[0m 2s/step - accuracy: 0.6784 - loss: 0.6045 - val_accuracy: 0.7830 - val_loss: 0.5801\n",
      "Epoch 7/10\n",
      "\u001b[1m150/150\u001b[0m \u001b[32m━━━━━━━━━━━━━━━━━━━━\u001b[0m\u001b[37m\u001b[0m \u001b[1m237s\u001b[0m 2s/step - accuracy: 0.7165 - loss: 0.5816 - val_accuracy: 0.7523 - val_loss: 0.5655\n",
      "Epoch 8/10\n",
      "\u001b[1m150/150\u001b[0m \u001b[32m━━━━━━━━━━━━━━━━━━━━\u001b[0m\u001b[37m\u001b[0m \u001b[1m236s\u001b[0m 2s/step - accuracy: 0.7421 - loss: 0.5597 - val_accuracy: 0.7424 - val_loss: 0.5517\n",
      "Epoch 9/10\n",
      "\u001b[1m150/150\u001b[0m \u001b[32m━━━━━━━━━━━━━━━━━━━━\u001b[0m\u001b[37m\u001b[0m \u001b[1m234s\u001b[0m 2s/step - accuracy: 0.7385 - loss: 0.5458 - val_accuracy: 0.7752 - val_loss: 0.5329\n",
      "Epoch 10/10\n",
      "\u001b[1m150/150\u001b[0m \u001b[32m━━━━━━━━━━━━━━━━━━━━\u001b[0m\u001b[37m\u001b[0m \u001b[1m234s\u001b[0m 2s/step - accuracy: 0.7536 - loss: 0.5320 - val_accuracy: 0.7445 - val_loss: 0.5252\n",
      "\u001b[1m77/77\u001b[0m \u001b[32m━━━━━━━━━━━━━━━━━━━━\u001b[0m\u001b[37m\u001b[0m \u001b[1m93s\u001b[0m 1s/step\n",
      "\n",
      "\n",
      "Training InceptionV3...\n",
      "Epoch 1/10\n",
      "\u001b[1m150/150\u001b[0m \u001b[32m━━━━━━━━━━━━━━━━━━━━\u001b[0m\u001b[37m\u001b[0m \u001b[1m251s\u001b[0m 2s/step - accuracy: 0.7493 - loss: 0.4798 - val_accuracy: 0.7293 - val_loss: 0.5896\n",
      "Epoch 2/10\n",
      "\u001b[1m150/150\u001b[0m \u001b[32m━━━━━━━━━━━━━━━━━━━━\u001b[0m\u001b[37m\u001b[0m \u001b[1m210s\u001b[0m 1s/step - accuracy: 0.8380 - loss: 0.3668 - val_accuracy: 0.7309 - val_loss: 0.5530\n",
      "Epoch 3/10\n",
      "\u001b[1m150/150\u001b[0m \u001b[32m━━━━━━━━━━━━━━━━━━━━\u001b[0m\u001b[37m\u001b[0m \u001b[1m209s\u001b[0m 1s/step - accuracy: 0.8628 - loss: 0.3202 - val_accuracy: 0.7424 - val_loss: 0.5667\n",
      "Epoch 4/10\n",
      "\u001b[1m150/150\u001b[0m \u001b[32m━━━━━━━━━━━━━━━━━━━━\u001b[0m\u001b[37m\u001b[0m \u001b[1m208s\u001b[0m 1s/step - accuracy: 0.8571 - loss: 0.3283 - val_accuracy: 0.7289 - val_loss: 0.5899\n",
      "Epoch 5/10\n",
      "\u001b[1m150/150\u001b[0m \u001b[32m━━━━━━━━━━━━━━━━━━━━\u001b[0m\u001b[37m\u001b[0m \u001b[1m210s\u001b[0m 1s/step - accuracy: 0.8576 - loss: 0.3243 - val_accuracy: 0.7326 - val_loss: 0.5523\n",
      "Epoch 6/10\n",
      "\u001b[1m150/150\u001b[0m \u001b[32m━━━━━━━━━━━━━━━━━━━━\u001b[0m\u001b[37m\u001b[0m \u001b[1m208s\u001b[0m 1s/step - accuracy: 0.8637 - loss: 0.3172 - val_accuracy: 0.7441 - val_loss: 0.6319\n",
      "Epoch 7/10\n",
      "\u001b[1m150/150\u001b[0m \u001b[32m━━━━━━━━━━━━━━━━━━━━\u001b[0m\u001b[37m\u001b[0m \u001b[1m210s\u001b[0m 1s/step - accuracy: 0.8764 - loss: 0.2986 - val_accuracy: 0.7260 - val_loss: 0.5453\n",
      "Epoch 8/10\n",
      "\u001b[1m150/150\u001b[0m \u001b[32m━━━━━━━━━━━━━━━━━━━━\u001b[0m\u001b[37m\u001b[0m \u001b[1m210s\u001b[0m 1s/step - accuracy: 0.8701 - loss: 0.3040 - val_accuracy: 0.7441 - val_loss: 0.6114\n",
      "Epoch 9/10\n",
      "\u001b[1m150/150\u001b[0m \u001b[32m━━━━━━━━━━━━━━━━━━━━\u001b[0m\u001b[37m\u001b[0m \u001b[1m263s\u001b[0m 1s/step - accuracy: 0.8787 - loss: 0.2960 - val_accuracy: 0.7469 - val_loss: 0.5842\n",
      "Epoch 10/10\n",
      "\u001b[1m150/150\u001b[0m \u001b[32m━━━━━━━━━━━━━━━━━━━━\u001b[0m\u001b[37m\u001b[0m \u001b[1m209s\u001b[0m 1s/step - accuracy: 0.8774 - loss: 0.2857 - val_accuracy: 0.7469 - val_loss: 0.5300\n",
      "\u001b[1m77/77\u001b[0m \u001b[32m━━━━━━━━━━━━━━━━━━━━\u001b[0m\u001b[37m\u001b[0m \u001b[1m81s\u001b[0m 960ms/step\n",
      "\n",
      "\n"
     ]
    }
   ],
   "source": [
    "# dictionary to store model performance\n",
    "results = []\n",
    "\n",
    "# train each model and store results\n",
    "for name, model in models.items():\n",
    "    print(f\"Training {name}...\")\n",
    "\n",
    "    # compile model\n",
    "    model.compile(optimizer=Adam(learning_rate=0.0001), loss='binary_crossentropy', metrics=['accuracy'])\n",
    "    # train model\n",
    "    history = model.fit(train_image_gen, validation_data=val_image_gen, epochs=10, callbacks=[early_stop], verbose=1)\n",
    "\n",
    "    # evaluate on validation set\n",
    "    y_true = val_image_gen.classes # true labels\n",
    "    y_pred_prob = model.predict(val_image_gen) # predicted probabilities\n",
    "    y_pred = (y_pred_prob > 0.4).astype(int) # convert to binary labels\n",
    "\n",
    "    # calculate metrics\n",
    "    accuracy = accuracy_score(y_true,y_pred)\n",
    "    precision = precision_score(y_true,y_pred)\n",
    "    recall = recall_score(y_true,y_pred)\n",
    "    f1 = f1_score(y_true,y_pred)\n",
    "    roc_auc = roc_auc_score(y_true,y_pred_prob)\n",
    "\n",
    "    # store results\n",
    "    results.append([name, accuracy, precision, recall, f1, roc_auc])\n",
    "\n",
    "    print(\"\\n\")"
   ]
  },
  {
   "cell_type": "code",
   "execution_count": 45,
   "metadata": {
    "executionInfo": {
     "elapsed": 40,
     "status": "ok",
     "timestamp": 1743716880116,
     "user": {
      "displayName": "Ibrahim Malik",
      "userId": "12682751128688087560"
     },
     "user_tz": -60
    },
    "id": "4PbjylJX7Edj"
   },
   "outputs": [],
   "source": [
    "# convert results to DataFrame and display\n",
    "df_results = pd.DataFrame(results, columns=[\"Model\", \"Accuracy\", \"Precision\", \"Recall\", \"F1-Score\", \"AUC-ROC\"])"
   ]
  },
  {
   "cell_type": "code",
   "execution_count": null,
   "metadata": {
    "colab": {
     "base_uri": "https://localhost:8080/",
     "height": 125
    },
    "executionInfo": {
     "elapsed": 43,
     "status": "ok",
     "timestamp": 1743716880606,
     "user": {
      "displayName": "Ibrahim Malik",
      "userId": "12682751128688087560"
     },
     "user_tz": -60
    },
    "id": "xKzfG6517Edk",
    "outputId": "26892c32-4a12-4016-d706-0d4818b7ee82"
   },
   "outputs": [],
   "source": [
    "display(df_results)"
   ]
  },
  {
   "cell_type": "code",
   "execution_count": 50,
   "metadata": {
    "colab": {
     "base_uri": "https://localhost:8080/"
    },
    "executionInfo": {
     "elapsed": 301603,
     "status": "ok",
     "timestamp": 1743718629366,
     "user": {
      "displayName": "Ibrahim Malik",
      "userId": "12682751128688087560"
     },
     "user_tz": -60
    },
    "id": "BBd2xhw6LMux",
    "outputId": "71b08664-1742-4f91-90a3-c510a7b4eb14"
   },
   "outputs": [
    {
     "name": "stdout",
     "output_type": "stream",
     "text": [
      "Training InceptionV4...\n",
      "\u001b[1m150/150\u001b[0m \u001b[32m━━━━━━━━━━━━━━━━━━━━\u001b[0m\u001b[37m\u001b[0m \u001b[1m156s\u001b[0m 1s/step\n",
      "\n",
      "\n",
      "Training InceptionV3...\n",
      "\u001b[1m150/150\u001b[0m \u001b[32m━━━━━━━━━━━━━━━━━━━━\u001b[0m\u001b[37m\u001b[0m \u001b[1m137s\u001b[0m 917ms/step\n",
      "\n",
      "\n"
     ]
    }
   ],
   "source": [
    "# dictionary to store model performance\n",
    "results2 = []\n",
    "\n",
    "# train each model and store results\n",
    "for name, model in models.items():\n",
    "    print(f\"Training {name}...\")\n",
    "\n",
    "    # evaluate on validation set\n",
    "    y_true = train_image_gen.classes # true labels\n",
    "    y_pred_prob = model.predict(train_image_gen) # predicted probabilities\n",
    "    y_pred = (y_pred_prob > 0.4).astype(int) # convert to binary labels\n",
    "\n",
    "    # calculate metrics\n",
    "    accuracy = accuracy_score(y_true,y_pred)\n",
    "    precision = precision_score(y_true,y_pred)\n",
    "    recall = recall_score(y_true,y_pred)\n",
    "    f1 = f1_score(y_true,y_pred)\n",
    "    roc_auc = roc_auc_score(y_true,y_pred_prob)\n",
    "\n",
    "    # store results\n",
    "    results2.append([name, accuracy, precision, recall, f1, roc_auc])\n",
    "\n",
    "    print(\"\\n\")"
   ]
  },
  {
   "cell_type": "code",
   "execution_count": null,
   "metadata": {
    "colab": {
     "base_uri": "https://localhost:8080/",
     "height": 125
    },
    "executionInfo": {
     "elapsed": 35,
     "status": "ok",
     "timestamp": 1743718629405,
     "user": {
      "displayName": "Ibrahim Malik",
      "userId": "12682751128688087560"
     },
     "user_tz": -60
    },
    "id": "R9hSji70pLn-",
    "outputId": "dc666c43-9042-4b0e-809d-28bc1834df8e"
   },
   "outputs": [],
   "source": [
    "# convert results to DataFrame and display\n",
    "df_results2 = pd.DataFrame(results2, columns=[\"Model\", \"Accuracy\", \"Precision\", \"Recall\", \"F1-Score\", \"AUC-ROC\"])\n",
    "\n",
    "display(df_results2)"
   ]
  }
 ],
 "metadata": {
  "accelerator": "GPU",
  "colab": {
   "gpuType": "T4",
   "provenance": []
  },
  "kernelspec": {
   "display_name": "Python 3",
   "name": "python3"
  },
  "language_info": {
   "codemirror_mode": {
    "name": "ipython",
    "version": 3
   },
   "file_extension": ".py",
   "mimetype": "text/x-python",
   "name": "python",
   "nbconvert_exporter": "python",
   "pygments_lexer": "ipython3",
   "version": "3.12.9"
  }
 },
 "nbformat": 4,
 "nbformat_minor": 0
}
