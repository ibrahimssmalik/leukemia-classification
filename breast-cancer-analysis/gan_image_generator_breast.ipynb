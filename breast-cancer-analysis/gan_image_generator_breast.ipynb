{
 "cells": [
  {
   "cell_type": "code",
   "execution_count": null,
   "metadata": {
    "colab": {
     "base_uri": "https://localhost:8080/"
    },
    "executionInfo": {
     "elapsed": 22413,
     "status": "ok",
     "timestamp": 1739887554794,
     "user": {
      "displayName": "Ibrahim Malik",
      "userId": "12682751128688087560"
     },
     "user_tz": 0
    },
    "id": "8Mt9NZOUcXha",
    "outputId": "a23f6a03-73e5-4d94-b74a-1a3a66c759c3"
   },
   "outputs": [
    {
     "name": "stdout",
     "output_type": "stream",
     "text": [
      "Mounted at /content/drive\n"
     ]
    }
   ],
   "source": [
    "# make connection to google drive to access data\n",
    "from google.colab import drive\n",
    "drive.mount('/content/drive')"
   ]
  },
  {
   "cell_type": "code",
   "execution_count": 40,
   "metadata": {
    "executionInfo": {
     "elapsed": 203,
     "status": "ok",
     "timestamp": 1739888897447,
     "user": {
      "displayName": "Ibrahim Malik",
      "userId": "12682751128688087560"
     },
     "user_tz": 0
    },
    "id": "_sP43iHYcUoI"
   },
   "outputs": [],
   "source": [
    "# set up directory paths to image files\n",
    "train_path = \"/content/drive/My Drive/Deep Learning and Generative AI/breast_cancer/Dataset_BUSI_with_GT\""
   ]
  },
  {
   "cell_type": "code",
   "execution_count": null,
   "metadata": {
    "id": "ocU6NCEbY1Nd"
   },
   "outputs": [],
   "source": [
    "save_path_train = \"/content/drive/My Drive/Deep Learning and Generative AI/breast_cancer/Dataset_BUSI_with_GT/generated_data_breast\""
   ]
  },
  {
   "cell_type": "code",
   "execution_count": null,
   "metadata": {
    "id": "WnwZewJicUoO"
   },
   "outputs": [],
   "source": [
    "# import relevant libraries for analysis\n",
    "import os\n",
    "import numpy as np\n",
    "import pandas as pd\n",
    "import matplotlib.pyplot as plt\n",
    "import seaborn as sns\n",
    "\n",
    "%matplotlib inline"
   ]
  },
  {
   "cell_type": "code",
   "execution_count": null,
   "metadata": {
    "id": "eihYGze_cUoP"
   },
   "outputs": [],
   "source": [
    "# import relevant libraries for loading GAN model and analysis\n",
    "from tensorflow.keras.models import load_model\n",
    "import tensorflow as tf"
   ]
  },
  {
   "cell_type": "code",
   "execution_count": null,
   "metadata": {
    "id": "YGGYnWPLcUoP"
   },
   "outputs": [],
   "source": [
    "# upload the generator model from Google Drive\n",
    "gen_path = \"/content/drive/My Drive/Deep Learning and Generative AI/breast_cancer/saved_models/generator_model_breast.keras\"\n",
    "gen = load_model(gen_path)"
   ]
  },
  {
   "cell_type": "code",
   "execution_count": null,
   "metadata": {
    "id": "Bz9jtdtycUoQ"
   },
   "outputs": [],
   "source": [
    "codings_size = 250"
   ]
  },
  {
   "cell_type": "code",
   "execution_count": 41,
   "metadata": {
    "colab": {
     "base_uri": "https://localhost:8080/"
    },
    "executionInfo": {
     "elapsed": 212,
     "status": "ok",
     "timestamp": 1739888899113,
     "user": {
      "displayName": "Ibrahim Malik",
      "userId": "12682751128688087560"
     },
     "user_tz": 0
    },
    "id": "_PBFS7xDcUoQ",
    "outputId": "72361d9b-1117-46d1-c00f-79b2f756378c"
   },
   "outputs": [
    {
     "name": "stdout",
     "output_type": "stream",
     "text": [
      "(Train) Normal Images #:  133\n",
      "(Train) Cancer Images #:  210\n",
      "(Train) To Generate   #:  77\n"
     ]
    }
   ],
   "source": [
    "# analyze difference in images for training cancer and normal images\n",
    "print('(Train) Normal Images #: ',len([file for file in os.listdir(os.path.join(train_path,'normal')) if 'mask' not in file]))\n",
    "print('(Train) Cancer Images #: ',len([file for file in os.listdir(os.path.join(train_path,'malignant')) if 'mask' not in file]))\n",
    "print('(Train) To Generate   #: ',len([file for file in os.listdir(os.path.join(train_path,'malignant')) if 'mask' not in file])-len([file for file in os.listdir(os.path.join(train_path,'normal')) if 'mask' not in file]))"
   ]
  },
  {
   "cell_type": "code",
   "execution_count": null,
   "metadata": {
    "id": "N8PRT7cHcUoS"
   },
   "outputs": [],
   "source": [
    "new_imgs_train = len([file for file in os.listdir(os.path.join(train_path,'malignant')) if 'mask' not in file])-len([file for file in os.listdir(os.path.join(train_path,'normal')) if 'mask' not in file]) # holds number training images to generate"
   ]
  },
  {
   "cell_type": "code",
   "execution_count": null,
   "metadata": {
    "id": "0hTS1bD9cUoT"
   },
   "outputs": [],
   "source": [
    "# make the directories if they don't already exist\n",
    "if not os.path.exists(save_path_train):\n",
    "    os.makedirs(save_path_train)"
   ]
  },
  {
   "cell_type": "code",
   "execution_count": null,
   "metadata": {
    "colab": {
     "base_uri": "https://localhost:8080/"
    },
    "executionInfo": {
     "elapsed": 21109,
     "status": "ok",
     "timestamp": 1739888399604,
     "user": {
      "displayName": "Ibrahim Malik",
      "userId": "12682751128688087560"
     },
     "user_tz": 0
    },
    "id": "Dvve-9YucUoU",
    "outputId": "8c156ea8-fee2-4442-d196-9de608791665"
   },
   "outputs": [
    {
     "name": "stdout",
     "output_type": "stream",
     "text": [
      "Saved 77 images to /content/drive/My Drive/Deep Learning and Generative AI/breast_cancer/Dataset_BUSI_with_GT/generated_data_breast\n"
     ]
    }
   ],
   "source": [
    "# generate the number of training images for class imbalance\n",
    "for i in range(new_imgs_train):\n",
    "    noise = tf.random.normal(shape=[1, codings_size])\n",
    "    images = gen(noise)\n",
    "    plt.imshow(images.numpy().reshape(224, 224, 1), cmap='gray')\n",
    "    plt.axis('off')\n",
    "    image_file_path = os.path.join(save_path_train, f'image_{i+1}.png')\n",
    "    plt.savefig(image_file_path, bbox_inches='tight', pad_inches=0)\n",
    "    plt.close()\n",
    "\n",
    "print(f'Saved {new_imgs_train} images to {save_path_train}')"
   ]
  },
  {
   "cell_type": "code",
   "execution_count": null,
   "metadata": {
    "id": "ZYFctAsDcUoU"
   },
   "outputs": [],
   "source": [
    "import shutil\n",
    "\n",
    "# paths to image directories\n",
    "generated_path = \"/content/drive/My Drive/Deep Learning and Generative AI/breast_cancer/Dataset_BUSI_with_GT/generated_data_breast\"\n",
    "\n",
    "# create new directory to hold both sets of images\n",
    "combined_path = \"/content/drive/My Drive/Deep Learning and Generative AI/breast_cancer/Dataset_BUSI_with_GT/combined_images_train\"\n",
    "if not os.path.exists(combined_path):\n",
    "    os.makedirs(combined_path)\n",
    "\n",
    "# class name for generated images\n",
    "subdir = 'normal'\n",
    "\n",
    "# create links to images in both directories\n",
    "src_dir_train = os.path.join(train_path, subdir)\n",
    "src_dir_generated = generated_path\n",
    "dest_dir = os.path.join(combined_path, subdir)\n",
    "\n",
    "if not os.path.exists(dest_dir):\n",
    "    os.makedirs(dest_dir)\n",
    "\n",
    "# copy images from both directories to the combined directory\n",
    "for src_dir in [os.path.join(train_path, subdir), generated_path]:\n",
    "    for img in os.listdir(src_dir):\n",
    "        src_img_path = os.path.join(src_dir, img)\n",
    "        dest_img_path = os.path.join(dest_dir, img)\n",
    "        if not os.path.exists(dest_img_path):\n",
    "            shutil.copy(src_img_path, dest_img_path)"
   ]
  }
 ],
 "metadata": {
  "colab": {
   "provenance": []
  },
  "kernelspec": {
   "display_name": "Python 3",
   "language": "python",
   "name": "python3"
  },
  "language_info": {
   "codemirror_mode": {
    "name": "ipython",
    "version": 3
   },
   "file_extension": ".py",
   "mimetype": "text/x-python",
   "name": "python",
   "nbconvert_exporter": "python",
   "pygments_lexer": "ipython3",
   "version": "3.12.9"
  }
 },
 "nbformat": 4,
 "nbformat_minor": 0
}
