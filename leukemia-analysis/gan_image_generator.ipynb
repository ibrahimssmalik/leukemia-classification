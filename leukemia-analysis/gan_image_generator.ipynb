{
  "cells": [
    {
      "cell_type": "code",
      "source": [
        "# make connection to google drive to access data\n",
        "from google.colab import drive\n",
        "drive.mount('/content/drive')"
      ],
      "metadata": {
        "id": "8Mt9NZOUcXha"
      },
      "execution_count": null,
      "outputs": []
    },
    {
      "cell_type": "code",
      "execution_count": null,
      "metadata": {
        "id": "_sP43iHYcUoI"
      },
      "outputs": [],
      "source": [
        "# set up directory paths to image files\n",
        "train_path = \"/content/drive/My Drive/Deep Learning and Generative AI/C-NMC_Leukemia/training_data/fold_0\"\n",
        "val_path = \"/content/drive/My Drive/Deep Learning and Generative AI/C-NMC_Leukemia/validation_data/val_data\""
      ]
    },
    {
      "cell_type": "code",
      "execution_count": null,
      "metadata": {
        "id": "pw8Q-EbWcUoN"
      },
      "outputs": [],
      "source": [
        "# set up directory paths to save GAN generated images (for training and validation)\n",
        "save_path_train = \"/content/drive/My Drive/Deep Learning and Generative AI/C-NMC_Leukemia/generated_data_train\"\n",
        "save_path_val = \"/content/drive/My Drive/Deep Learning and Generative AI/C-NMC_Leukemia/generated_data_val\""
      ]
    },
    {
      "cell_type": "code",
      "execution_count": null,
      "metadata": {
        "id": "WnwZewJicUoO"
      },
      "outputs": [],
      "source": [
        "# import relevant libraries for analysis\n",
        "import os\n",
        "import numpy as np\n",
        "import pandas as pd\n",
        "import matplotlib.pyplot as plt\n",
        "import seaborn as sns\n",
        "\n",
        "%matplotlib inline"
      ]
    },
    {
      "cell_type": "code",
      "execution_count": null,
      "metadata": {
        "id": "eihYGze_cUoP"
      },
      "outputs": [],
      "source": [
        "# import relevant libraries for loading GAN model and analysis\n",
        "from tensorflow.keras.models import load_model\n",
        "import tensorflow as tf"
      ]
    },
    {
      "cell_type": "code",
      "execution_count": null,
      "metadata": {
        "id": "YGGYnWPLcUoP"
      },
      "outputs": [],
      "source": [
        "# upload the generator model from Google Drive\n",
        "gen_path = \"/content/drive/My Drive/Deep Learning and Generative AI/saved_models/gan/generator_model.keras\"\n",
        "gen = load_model('generator_model.keras')"
      ]
    },
    {
      "cell_type": "code",
      "execution_count": null,
      "metadata": {
        "id": "Bz9jtdtycUoQ"
      },
      "outputs": [],
      "source": [
        "codings_size = 500"
      ]
    },
    {
      "cell_type": "code",
      "execution_count": null,
      "metadata": {
        "id": "_PBFS7xDcUoQ",
        "outputId": "50e47fef-5d9a-4bc7-b806-4cd349d1f140"
      },
      "outputs": [
        {
          "name": "stdout",
          "output_type": "stream",
          "text": [
            "(Train) Normal Images #:  1130\n",
            "(Train) Cancer Images #:  2397\n",
            "(Train) To Generate   #:  1267\n"
          ]
        }
      ],
      "source": [
        "# analyze difference in images for training cancer and normal images\n",
        "print('(Train) Normal Images #: ',len(os.listdir(os.path.join(train_path,'hem'))))\n",
        "print('(Train) Cancer Images #: ',len(os.listdir(os.path.join(train_path,'all'))))\n",
        "print('(Train) To Generate   #: ',len(os.listdir(os.path.join(train_path,'all')))-len(os.listdir(os.path.join(train_path,'hem'))))"
      ]
    },
    {
      "cell_type": "code",
      "execution_count": null,
      "metadata": {
        "id": "aJCjd01dcUoS",
        "outputId": "c9c8c572-b9d5-44a0-863c-4cc55d687e56"
      },
      "outputs": [
        {
          "name": "stdout",
          "output_type": "stream",
          "text": [
            "(Test) Normal Images #:  648\n",
            "(Test) Cancer Images #:  1219\n",
            "(Test) To Generate   #:  571\n"
          ]
        }
      ],
      "source": [
        "# analyze difference in images for validation cancer and normal images\n",
        "print('(Test) Normal Images #: ',len(os.listdir(os.path.join(val_path,'hem'))))\n",
        "print('(Test) Cancer Images #: ',len(os.listdir(os.path.join(val_path,'all'))))\n",
        "print('(Test) To Generate   #: ',len(os.listdir(os.path.join(val_path,'all')))-len(os.listdir(os.path.join(val_path,'hem'))))"
      ]
    },
    {
      "cell_type": "code",
      "execution_count": null,
      "metadata": {
        "id": "N8PRT7cHcUoS"
      },
      "outputs": [],
      "source": [
        "new_imgs_train = len(os.listdir(os.path.join(train_path,'all')))-len(os.listdir(os.path.join(train_path,'hem'))) # holds number training images to generate"
      ]
    },
    {
      "cell_type": "code",
      "execution_count": null,
      "metadata": {
        "id": "qtzCNaMIcUoT"
      },
      "outputs": [],
      "source": [
        "new_imgs_val = len(os.listdir(os.path.join(val_path,'all')))-len(os.listdir(os.path.join(val_path,'hem'))) # holds number validation images to generate"
      ]
    },
    {
      "cell_type": "code",
      "execution_count": null,
      "metadata": {
        "id": "0hTS1bD9cUoT"
      },
      "outputs": [],
      "source": [
        "# make the directories if they don't already exist\n",
        "if not os.path.exists(save_path_train):\n",
        "    os.makedirs(save_path_train)\n",
        "\n",
        "if not os.path.exists(save_path_val):\n",
        "    os.makedirs(save_path_val)"
      ]
    },
    {
      "cell_type": "code",
      "execution_count": null,
      "metadata": {
        "id": "Dvve-9YucUoU"
      },
      "outputs": [],
      "source": [
        "# generate the number of training images for class imbalance\n",
        "for i in range(new_imgs_train):\n",
        "    noise = tf.random.normal(shape=[1, codings_size])\n",
        "    images = gen(noise)\n",
        "    plt.imshow(images.numpy().reshape(224, 224, 1), cmap='gray')\n",
        "    plt.axis('off')\n",
        "    image_file_path = os.path.join(save_path_train, f'image_{i+1}.png')\n",
        "    plt.savefig(image_file_path, bbox_inches='tight', pad_inches=0)\n",
        "    plt.close()\n",
        "\n",
        "print(f'Saved {new_imgs_train} images to {save_path_train}')"
      ]
    },
    {
      "cell_type": "code",
      "execution_count": null,
      "metadata": {
        "id": "K-Q1-D7WcUoU"
      },
      "outputs": [],
      "source": [
        "# generate the number of validation images for class imbalance\n",
        "for i in range(new_imgs_val):\n",
        "    noise = tf.random.normal(shape=[1, codings_size])\n",
        "    images = gen(noise)\n",
        "    plt.imshow(images.numpy().reshape(224, 224, 1), cmap='gray')\n",
        "    plt.axis('off')\n",
        "    image_file_path = os.path.join(save_path_val, f'image_{i+1}.png')\n",
        "    plt.savefig(image_file_path, bbox_inches='tight', pad_inches=0)\n",
        "    plt.close()\n",
        "\n",
        "print(f'Saved {new_imgs_val} images to {save_path_val}')"
      ]
    },
    {
      "cell_type": "code",
      "execution_count": null,
      "metadata": {
        "id": "ZYFctAsDcUoU"
      },
      "outputs": [],
      "source": [
        "import shutil\n",
        "\n",
        "# paths to image directories\n",
        "generated_path = \"/content/drive/My Drive/Deep Learning and Generative AI/C-NMC_Leukemia/generated_data_train\"\n",
        "\n",
        "# create new directory to hold both sets of images\n",
        "combined_path = \"/content/drive/My Drive/Deep Learning and Generative AI/C-NMC_Leukemia/combined_images_train\"\n",
        "if not os.path.exists(combined_path):\n",
        "    os.makedirs(combined_path)\n",
        "\n",
        "# class name for generated images\n",
        "subdir = 'hem'\n",
        "\n",
        "# create links to images in both directories\n",
        "src_dir_train = os.path.join(train_path, subdir)\n",
        "src_dir_generated = generated_path\n",
        "dest_dir = os.path.join(combined_path, subdir)\n",
        "\n",
        "if not os.path.exists(dest_dir):\n",
        "    os.makedirs(dest_dir)\n",
        "\n",
        "# copy images from both directories to the combined directory\n",
        "for src_dir in [os.path.join(train_path, subdir), generated_path]:\n",
        "    for img in os.listdir(src_dir):\n",
        "        src_img_path = os.path.join(src_dir, img)\n",
        "        dest_img_path = os.path.join(dest_dir, img)\n",
        "        if not os.path.exists(dest_img_path):\n",
        "            shutil.copy(src_img_path, dest_img_path)"
      ]
    },
    {
      "cell_type": "code",
      "execution_count": null,
      "metadata": {
        "id": "XeUc2Qe_cUoV"
      },
      "outputs": [],
      "source": [
        "import shutil\n",
        "\n",
        "# paths to image directories\n",
        "generated_path = \"/content/drive/My Drive/Deep Learning and Generative AI/C-NMC_Leukemia/generated_data_val\"\n",
        "\n",
        "# create new directory to hold both sets of images\n",
        "combined_path = \"/content/drive/My Drive/Deep Learning and Generative AI/C-NMC_Leukemia/combined_images_val\"\n",
        "if not os.path.exists(combined_path):\n",
        "    os.makedirs(combined_path)\n",
        "\n",
        "# class name for generated images\n",
        "subdir = 'hem'\n",
        "\n",
        "# create links to images in both directories\n",
        "src_dir_train = os.path.join(val_path, subdir)\n",
        "src_dir_generated = generated_path\n",
        "dest_dir = os.path.join(combined_path, subdir)\n",
        "\n",
        "if not os.path.exists(dest_dir):\n",
        "    os.makedirs(dest_dir)\n",
        "\n",
        "# copy images from both directories to the combined directory\n",
        "for src_dir in [os.path.join(val_path, subdir), generated_path]:\n",
        "    for img in os.listdir(src_dir):\n",
        "        src_img_path = os.path.join(src_dir, img)\n",
        "        dest_img_path = os.path.join(dest_dir, img)\n",
        "        if not os.path.exists(dest_img_path):\n",
        "            shutil.copy(src_img_path, dest_img_path)"
      ]
    }
  ],
  "metadata": {
    "kernelspec": {
      "display_name": "Python 3",
      "language": "python",
      "name": "python3"
    },
    "language_info": {
      "codemirror_mode": {
        "name": "ipython",
        "version": 3
      },
      "file_extension": ".py",
      "mimetype": "text/x-python",
      "name": "python",
      "nbconvert_exporter": "python",
      "pygments_lexer": "ipython3",
      "version": "3.12.9"
    },
    "colab": {
      "provenance": []
    }
  },
  "nbformat": 4,
  "nbformat_minor": 0
}